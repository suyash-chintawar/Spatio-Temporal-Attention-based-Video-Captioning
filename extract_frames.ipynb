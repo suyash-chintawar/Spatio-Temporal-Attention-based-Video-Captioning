{
  "nbformat": 4,
  "nbformat_minor": 0,
  "metadata": {
    "colab": {
      "name": "extract_frames.ipynb",
      "provenance": [],
      "collapsed_sections": []
    },
    "kernelspec": {
      "name": "python3",
      "display_name": "Python 3"
    },
    "language_info": {
      "name": "python"
    },
    "accelerator": "GPU"
  },
  "cells": [
    {
      "cell_type": "code",
      "execution_count": null,
      "metadata": {
        "id": "2aexohvkPXjo",
        "colab": {
          "base_uri": "https://localhost:8080/"
        },
        "outputId": "86cd506a-bb24-43d8-a9f3-78ec2baec122"
      },
      "outputs": [
        {
          "output_type": "stream",
          "name": "stdout",
          "text": [
            "Mounted at /content/drive\n"
          ]
        }
      ],
      "source": [
        "from google.colab import drive\n",
        "drive.mount('/content/drive')"
      ]
    },
    {
      "cell_type": "code",
      "source": [
        "import os\n",
        "import cv2\n",
        "import time\n",
        "import torch\n",
        "import numpy as np\n",
        "import pandas as pd\n",
        "from PIL import Image\n",
        "from moviepy.editor import *\n",
        "from torchvision import transforms"
      ],
      "metadata": {
        "id": "FgvaUo8ygKrf",
        "colab": {
          "base_uri": "https://localhost:8080/"
        },
        "outputId": "55494a32-9986-4295-e46b-4f4cbd07c3e2"
      },
      "execution_count": null,
      "outputs": [
        {
          "output_type": "stream",
          "name": "stdout",
          "text": [
            "Imageio: 'ffmpeg-linux64-v3.3.1' was not found on your computer; downloading it now.\n",
            "Try 1. Download from https://github.com/imageio/imageio-binaries/raw/master/ffmpeg/ffmpeg-linux64-v3.3.1 (43.8 MB)\n",
            "Downloading: 8192/45929032 bytes (0.0%)\b\b\b\b\b\b\b\b\b\b\b\b\b\b\b\b\b\b\b\b\b\b\b\b\b\b3645440/45929032 bytes (7.9%)\b\b\b\b\b\b\b\b\b\b\b\b\b\b\b\b\b\b\b\b\b\b\b\b\b\b\b\b\b7774208/45929032 bytes (16.9%)\b\b\b\b\b\b\b\b\b\b\b\b\b\b\b\b\b\b\b\b\b\b\b\b\b\b\b\b\b\b11894784/45929032 bytes (25.9%)\b\b\b\b\b\b\b\b\b\b\b\b\b\b\b\b\b\b\b\b\b\b\b\b\b\b\b\b\b\b\b15974400/45929032 bytes (34.8%)\b\b\b\b\b\b\b\b\b\b\b\b\b\b\b\b\b\b\b\b\b\b\b\b\b\b\b\b\b\b\b20054016/45929032 bytes (43.7%)\b\b\b\b\b\b\b\b\b\b\b\b\b\b\b\b\b\b\b\b\b\b\b\b\b\b\b\b\b\b\b24043520/45929032 bytes (52.3%)\b\b\b\b\b\b\b\b\b\b\b\b\b\b\b\b\b\b\b\b\b\b\b\b\b\b\b\b\b\b\b28090368/45929032 bytes (61.2%)\b\b\b\b\b\b\b\b\b\b\b\b\b\b\b\b\b\b\b\b\b\b\b\b\b\b\b\b\b\b\b32227328/45929032 bytes (70.2%)\b\b\b\b\b\b\b\b\b\b\b\b\b\b\b\b\b\b\b\b\b\b\b\b\b\b\b\b\b\b\b36208640/45929032 bytes (78.8%)\b\b\b\b\b\b\b\b\b\b\b\b\b\b\b\b\b\b\b\b\b\b\b\b\b\b\b\b\b\b\b40255488/45929032 bytes (87.6%)\b\b\b\b\b\b\b\b\b\b\b\b\b\b\b\b\b\b\b\b\b\b\b\b\b\b\b\b\b\b\b44457984/45929032 bytes (96.8%)\b\b\b\b\b\b\b\b\b\b\b\b\b\b\b\b\b\b\b\b\b\b\b\b\b\b\b\b\b\b\b45929032/45929032 bytes (100.0%)\n",
            "  Done\n",
            "File saved as /root/.imageio/ffmpeg/ffmpeg-linux64-v3.3.1.\n"
          ]
        }
      ]
    },
    {
      "cell_type": "code",
      "source": [
        "import pandas as pd\n",
        "df = pd.read_csv('drive/MyDrive/it416/data.csv')\n",
        "df"
      ],
      "metadata": {
        "colab": {
          "base_uri": "https://localhost:8080/",
          "height": 424
        },
        "id": "2C1RvSVAg4CB",
        "outputId": "ed2ab9d1-83cf-4742-bf9b-fcd8610a8bf3"
      },
      "execution_count": null,
      "outputs": [
        {
          "output_type": "execute_result",
          "data": {
            "text/plain": [
              "                VideoID                                       Description\n",
              "0      -4wsuPCjDBc_5_15       a squirrel is eating a peanut in it s shell\n",
              "1      -4wsuPCjDBc_5_15                              a chipmunk is eating\n",
              "2      -4wsuPCjDBc_5_15                     a chipmunk is eating a peanut\n",
              "3      -4wsuPCjDBc_5_15                        a chipmunk is eating a nut\n",
              "4      -4wsuPCjDBc_5_15                        a squirrel is eating a nut\n",
              "...                 ...                                               ...\n",
              "80783   zxB4dFJhHR8_1_9                           a girl riding a bicycle\n",
              "80784   zxB4dFJhHR8_1_9  a smiling girl wearing backpack is riding a bike\n",
              "80785   zxB4dFJhHR8_1_9               the girl rode her bike at the beach\n",
              "80786  zzit5b_-ukg_5_20                  a boy is doing exercise by cycle\n",
              "80787  zzit5b_-ukg_5_20                a boy is doing exercise on machine\n",
              "\n",
              "[80788 rows x 2 columns]"
            ],
            "text/html": [
              "\n",
              "  <div id=\"df-b1f8ca16-1b9f-46aa-97cc-b1fb4c236cc5\">\n",
              "    <div class=\"colab-df-container\">\n",
              "      <div>\n",
              "<style scoped>\n",
              "    .dataframe tbody tr th:only-of-type {\n",
              "        vertical-align: middle;\n",
              "    }\n",
              "\n",
              "    .dataframe tbody tr th {\n",
              "        vertical-align: top;\n",
              "    }\n",
              "\n",
              "    .dataframe thead th {\n",
              "        text-align: right;\n",
              "    }\n",
              "</style>\n",
              "<table border=\"1\" class=\"dataframe\">\n",
              "  <thead>\n",
              "    <tr style=\"text-align: right;\">\n",
              "      <th></th>\n",
              "      <th>VideoID</th>\n",
              "      <th>Description</th>\n",
              "    </tr>\n",
              "  </thead>\n",
              "  <tbody>\n",
              "    <tr>\n",
              "      <th>0</th>\n",
              "      <td>-4wsuPCjDBc_5_15</td>\n",
              "      <td>a squirrel is eating a peanut in it s shell</td>\n",
              "    </tr>\n",
              "    <tr>\n",
              "      <th>1</th>\n",
              "      <td>-4wsuPCjDBc_5_15</td>\n",
              "      <td>a chipmunk is eating</td>\n",
              "    </tr>\n",
              "    <tr>\n",
              "      <th>2</th>\n",
              "      <td>-4wsuPCjDBc_5_15</td>\n",
              "      <td>a chipmunk is eating a peanut</td>\n",
              "    </tr>\n",
              "    <tr>\n",
              "      <th>3</th>\n",
              "      <td>-4wsuPCjDBc_5_15</td>\n",
              "      <td>a chipmunk is eating a nut</td>\n",
              "    </tr>\n",
              "    <tr>\n",
              "      <th>4</th>\n",
              "      <td>-4wsuPCjDBc_5_15</td>\n",
              "      <td>a squirrel is eating a nut</td>\n",
              "    </tr>\n",
              "    <tr>\n",
              "      <th>...</th>\n",
              "      <td>...</td>\n",
              "      <td>...</td>\n",
              "    </tr>\n",
              "    <tr>\n",
              "      <th>80783</th>\n",
              "      <td>zxB4dFJhHR8_1_9</td>\n",
              "      <td>a girl riding a bicycle</td>\n",
              "    </tr>\n",
              "    <tr>\n",
              "      <th>80784</th>\n",
              "      <td>zxB4dFJhHR8_1_9</td>\n",
              "      <td>a smiling girl wearing backpack is riding a bike</td>\n",
              "    </tr>\n",
              "    <tr>\n",
              "      <th>80785</th>\n",
              "      <td>zxB4dFJhHR8_1_9</td>\n",
              "      <td>the girl rode her bike at the beach</td>\n",
              "    </tr>\n",
              "    <tr>\n",
              "      <th>80786</th>\n",
              "      <td>zzit5b_-ukg_5_20</td>\n",
              "      <td>a boy is doing exercise by cycle</td>\n",
              "    </tr>\n",
              "    <tr>\n",
              "      <th>80787</th>\n",
              "      <td>zzit5b_-ukg_5_20</td>\n",
              "      <td>a boy is doing exercise on machine</td>\n",
              "    </tr>\n",
              "  </tbody>\n",
              "</table>\n",
              "<p>80788 rows × 2 columns</p>\n",
              "</div>\n",
              "      <button class=\"colab-df-convert\" onclick=\"convertToInteractive('df-b1f8ca16-1b9f-46aa-97cc-b1fb4c236cc5')\"\n",
              "              title=\"Convert this dataframe to an interactive table.\"\n",
              "              style=\"display:none;\">\n",
              "        \n",
              "  <svg xmlns=\"http://www.w3.org/2000/svg\" height=\"24px\"viewBox=\"0 0 24 24\"\n",
              "       width=\"24px\">\n",
              "    <path d=\"M0 0h24v24H0V0z\" fill=\"none\"/>\n",
              "    <path d=\"M18.56 5.44l.94 2.06.94-2.06 2.06-.94-2.06-.94-.94-2.06-.94 2.06-2.06.94zm-11 1L8.5 8.5l.94-2.06 2.06-.94-2.06-.94L8.5 2.5l-.94 2.06-2.06.94zm10 10l.94 2.06.94-2.06 2.06-.94-2.06-.94-.94-2.06-.94 2.06-2.06.94z\"/><path d=\"M17.41 7.96l-1.37-1.37c-.4-.4-.92-.59-1.43-.59-.52 0-1.04.2-1.43.59L10.3 9.45l-7.72 7.72c-.78.78-.78 2.05 0 2.83L4 21.41c.39.39.9.59 1.41.59.51 0 1.02-.2 1.41-.59l7.78-7.78 2.81-2.81c.8-.78.8-2.07 0-2.86zM5.41 20L4 18.59l7.72-7.72 1.47 1.35L5.41 20z\"/>\n",
              "  </svg>\n",
              "      </button>\n",
              "      \n",
              "  <style>\n",
              "    .colab-df-container {\n",
              "      display:flex;\n",
              "      flex-wrap:wrap;\n",
              "      gap: 12px;\n",
              "    }\n",
              "\n",
              "    .colab-df-convert {\n",
              "      background-color: #E8F0FE;\n",
              "      border: none;\n",
              "      border-radius: 50%;\n",
              "      cursor: pointer;\n",
              "      display: none;\n",
              "      fill: #1967D2;\n",
              "      height: 32px;\n",
              "      padding: 0 0 0 0;\n",
              "      width: 32px;\n",
              "    }\n",
              "\n",
              "    .colab-df-convert:hover {\n",
              "      background-color: #E2EBFA;\n",
              "      box-shadow: 0px 1px 2px rgba(60, 64, 67, 0.3), 0px 1px 3px 1px rgba(60, 64, 67, 0.15);\n",
              "      fill: #174EA6;\n",
              "    }\n",
              "\n",
              "    [theme=dark] .colab-df-convert {\n",
              "      background-color: #3B4455;\n",
              "      fill: #D2E3FC;\n",
              "    }\n",
              "\n",
              "    [theme=dark] .colab-df-convert:hover {\n",
              "      background-color: #434B5C;\n",
              "      box-shadow: 0px 1px 3px 1px rgba(0, 0, 0, 0.15);\n",
              "      filter: drop-shadow(0px 1px 2px rgba(0, 0, 0, 0.3));\n",
              "      fill: #FFFFFF;\n",
              "    }\n",
              "  </style>\n",
              "\n",
              "      <script>\n",
              "        const buttonEl =\n",
              "          document.querySelector('#df-b1f8ca16-1b9f-46aa-97cc-b1fb4c236cc5 button.colab-df-convert');\n",
              "        buttonEl.style.display =\n",
              "          google.colab.kernel.accessAllowed ? 'block' : 'none';\n",
              "\n",
              "        async function convertToInteractive(key) {\n",
              "          const element = document.querySelector('#df-b1f8ca16-1b9f-46aa-97cc-b1fb4c236cc5');\n",
              "          const dataTable =\n",
              "            await google.colab.kernel.invokeFunction('convertToInteractive',\n",
              "                                                     [key], {});\n",
              "          if (!dataTable) return;\n",
              "\n",
              "          const docLinkHtml = 'Like what you see? Visit the ' +\n",
              "            '<a target=\"_blank\" href=https://colab.research.google.com/notebooks/data_table.ipynb>data table notebook</a>'\n",
              "            + ' to learn more about interactive tables.';\n",
              "          element.innerHTML = '';\n",
              "          dataTable['output_type'] = 'display_data';\n",
              "          await google.colab.output.renderOutput(dataTable, element);\n",
              "          const docLink = document.createElement('div');\n",
              "          docLink.innerHTML = docLinkHtml;\n",
              "          element.appendChild(docLink);\n",
              "        }\n",
              "      </script>\n",
              "    </div>\n",
              "  </div>\n",
              "  "
            ]
          },
          "metadata": {},
          "execution_count": 3
        }
      ]
    },
    {
      "cell_type": "code",
      "source": [
        "# Note: Changed to last 800 from random 800\n",
        "videoIDs = list(df.VideoID.unique())\n",
        "videoIDs=videoIDs[1170:]\n",
        "print(len(videoIDs))"
      ],
      "metadata": {
        "id": "aoXEjQ-ag43A",
        "colab": {
          "base_uri": "https://localhost:8080/"
        },
        "outputId": "769f8cda-c7c9-4109-bc22-391be27867ce"
      },
      "execution_count": null,
      "outputs": [
        {
          "output_type": "stream",
          "name": "stdout",
          "text": [
            "800\n"
          ]
        }
      ]
    },
    {
      "cell_type": "code",
      "source": [
        "def extract_frames_equally_spaced(frames, K):\n",
        "        n_frames = len(frames)\n",
        "        splits = np.array_split(range(n_frames), K)\n",
        "        idx_taken = [s[0] for s in splits]\n",
        "        sub_frames = []\n",
        "\n",
        "        for idx in idx_taken:\n",
        "          sub_frames.append(frames[idx])\n",
        "        return sub_frames\n",
        "\n",
        "def pad_frames(frames, limit, jpegs=False):\n",
        "        last_frame = frames[-1]\n",
        "        if jpegs:\n",
        "            frames_padded = frames + [last_frame]*(limit-len(frames))\n",
        "        else:\n",
        "            padding = np.asarray([last_frame * 0.]*(limit-len(frames)))\n",
        "            frames_padded = np.concatenate([frames, padding], axis=0)\n",
        "        return frames_padded\n",
        "\n",
        "def video_to_frames(input_loc,K):\n",
        "    cap = cv2.VideoCapture(input_loc)\n",
        "    \n",
        "    video_length = int(cap.get(cv2.CAP_PROP_FRAME_COUNT)) - 1\n",
        "    count = 0\n",
        "\n",
        "    frames=[]\n",
        "    while cap.isOpened():\n",
        "        ret, frame = cap.read()\n",
        "        if not ret:\n",
        "            continue\n",
        "        frames.append(frame)\n",
        "        count = count + 1\n",
        "        \n",
        "        if (count > (video_length-1)):\n",
        "            cap.release()\n",
        "            break\n",
        "    if len(frames) < K:\n",
        "        frames = pad_frames(frames,K)\n",
        "    else:\n",
        "        frames = extract_frames_equally_spaced(frames,K)\n",
        "    \n",
        "    return frames\n",
        "\n",
        "def resize_frames(frames):\n",
        "  new_frames = []\n",
        "  for frame in frames:\n",
        "    new_frame = cv2.resize(frame,(224,224))\n",
        "    new_frames.append(new_frame)\n",
        "  \n",
        "  return new_frames\n",
        "\n",
        "K=28\n",
        "input_data = []\n",
        "\n",
        "for id in videoIDs:\n",
        "  path = 'drive/MyDrive/it416/YouTubeClips/'\n",
        "  path+=id\n",
        "  path+='.avi'\n",
        "  print(id)\n",
        "\n",
        "  frames = video_to_frames(path,K)\n",
        "  frames = resize_frames(frames)\n",
        "\n",
        "  input_data.append(frames)\n",
        "\n",
        "input_data = np.array(input_data)\n",
        "np.save('input_data.npy',input_data)\n",
        "print(input_data.shape)"
      ],
      "metadata": {
        "id": "PKCCQKJZm6Ca"
      },
      "execution_count": null,
      "outputs": []
    },
    {
      "cell_type": "code",
      "source": [
        "#frames\n",
        "!wget 'https://drive.google.com/uc?id=10uilSyuHEbl6f6zJgh89_-uRfev8rQ8N&confirm=t' -O 'input_data_random_800.npy'"
      ],
      "metadata": {
        "id": "LaCh8b244Ptf"
      },
      "execution_count": null,
      "outputs": []
    },
    {
      "cell_type": "code",
      "source": [
        "#videoIDs\n",
        "!wget 'https://drive.google.com/uc?id=1-0ZOCy3t7sO5bowBc4AcmOfLacqcRlEI&confirm=t' -O 'videoIDs_random_800.npy'"
      ],
      "metadata": {
        "id": "UXpgvsTt4kwR"
      },
      "execution_count": null,
      "outputs": []
    },
    {
      "cell_type": "code",
      "source": [
        "input_data = np.load('input_data_random_800.npy')\n",
        "videoIDs = np.load('videoIDs_random_800.npy')"
      ],
      "metadata": {
        "id": "aV5IZuVL5a83"
      },
      "execution_count": null,
      "outputs": []
    },
    {
      "cell_type": "code",
      "source": [
        ""
      ],
      "metadata": {
        "id": "ggLzDRbqH80m"
      },
      "execution_count": null,
      "outputs": []
    }
  ]
}